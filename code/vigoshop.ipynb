{
 "cells": [
  {
   "cell_type": "code",
   "execution_count": 1,
   "id": "8f529f15-befb-448d-ba56-e46eed9f9659",
   "metadata": {},
   "outputs": [
    {
     "name": "stdout",
     "output_type": "stream",
     "text": [
      "Requirement already satisfied: requests in c:\\users\\crrz_\\anaconda3\\envs\\hsplus\\lib\\site-packages (2.31.0)\n",
      "Requirement already satisfied: charset-normalizer<4,>=2 in c:\\users\\crrz_\\anaconda3\\envs\\hsplus\\lib\\site-packages (from requests) (2.0.4)\n",
      "Requirement already satisfied: idna<4,>=2.5 in c:\\users\\crrz_\\anaconda3\\envs\\hsplus\\lib\\site-packages (from requests) (3.4)\n",
      "Requirement already satisfied: urllib3<3,>=1.21.1 in c:\\users\\crrz_\\anaconda3\\envs\\hsplus\\lib\\site-packages (from requests) (1.26.18)\n",
      "Requirement already satisfied: certifi>=2017.4.17 in c:\\users\\crrz_\\anaconda3\\envs\\hsplus\\lib\\site-packages (from requests) (2023.11.17)\n",
      "Requirement already satisfied: beautifulsoup4 in c:\\users\\crrz_\\anaconda3\\envs\\hsplus\\lib\\site-packages (4.12.2)\n",
      "Requirement already satisfied: soupsieve>1.2 in c:\\users\\crrz_\\anaconda3\\envs\\hsplus\\lib\\site-packages (from beautifulsoup4) (2.5)\n",
      "Requirement already satisfied: openai in c:\\users\\crrz_\\anaconda3\\envs\\hsplus\\lib\\site-packages (1.3.3)\n",
      "Requirement already satisfied: anyio<4,>=3.5.0 in c:\\users\\crrz_\\anaconda3\\envs\\hsplus\\lib\\site-packages (from openai) (3.5.0)\n",
      "Requirement already satisfied: distro<2,>=1.7.0 in c:\\users\\crrz_\\anaconda3\\envs\\hsplus\\lib\\site-packages (from openai) (1.8.0)\n",
      "Requirement already satisfied: httpx<1,>=0.23.0 in c:\\users\\crrz_\\anaconda3\\envs\\hsplus\\lib\\site-packages (from openai) (0.25.1)\n",
      "Requirement already satisfied: pydantic<3,>=1.9.0 in c:\\users\\crrz_\\anaconda3\\envs\\hsplus\\lib\\site-packages (from openai) (2.5.1)\n",
      "Requirement already satisfied: tqdm>4 in c:\\users\\crrz_\\anaconda3\\envs\\hsplus\\lib\\site-packages (from openai) (4.66.1)\n",
      "Requirement already satisfied: typing-extensions<5,>=4.5 in c:\\users\\crrz_\\anaconda3\\envs\\hsplus\\lib\\site-packages (from openai) (4.7.1)\n",
      "Requirement already satisfied: idna>=2.8 in c:\\users\\crrz_\\anaconda3\\envs\\hsplus\\lib\\site-packages (from anyio<4,>=3.5.0->openai) (3.4)\n",
      "Requirement already satisfied: sniffio>=1.1 in c:\\users\\crrz_\\anaconda3\\envs\\hsplus\\lib\\site-packages (from anyio<4,>=3.5.0->openai) (1.2.0)\n",
      "Requirement already satisfied: certifi in c:\\users\\crrz_\\anaconda3\\envs\\hsplus\\lib\\site-packages (from httpx<1,>=0.23.0->openai) (2023.11.17)\n",
      "Requirement already satisfied: httpcore in c:\\users\\crrz_\\anaconda3\\envs\\hsplus\\lib\\site-packages (from httpx<1,>=0.23.0->openai) (1.0.2)\n",
      "Requirement already satisfied: annotated-types>=0.4.0 in c:\\users\\crrz_\\anaconda3\\envs\\hsplus\\lib\\site-packages (from pydantic<3,>=1.9.0->openai) (0.6.0)\n",
      "Requirement already satisfied: pydantic-core==2.14.3 in c:\\users\\crrz_\\anaconda3\\envs\\hsplus\\lib\\site-packages (from pydantic<3,>=1.9.0->openai) (2.14.3)\n",
      "Requirement already satisfied: colorama in c:\\users\\crrz_\\anaconda3\\envs\\hsplus\\lib\\site-packages (from tqdm>4->openai) (0.4.6)\n",
      "Requirement already satisfied: h11<0.15,>=0.13 in c:\\users\\crrz_\\anaconda3\\envs\\hsplus\\lib\\site-packages (from httpcore->httpx<1,>=0.23.0->openai) (0.14.0)\n",
      "Requirement already satisfied: pandas in c:\\users\\crrz_\\anaconda3\\envs\\hsplus\\lib\\site-packages (2.1.3)\n",
      "Requirement already satisfied: numpy<2,>=1.22.4 in c:\\users\\crrz_\\anaconda3\\envs\\hsplus\\lib\\site-packages (from pandas) (1.26.2)\n",
      "Requirement already satisfied: python-dateutil>=2.8.2 in c:\\users\\crrz_\\anaconda3\\envs\\hsplus\\lib\\site-packages (from pandas) (2.8.2)\n",
      "Requirement already satisfied: pytz>=2020.1 in c:\\users\\crrz_\\anaconda3\\envs\\hsplus\\lib\\site-packages (from pandas) (2023.3.post1)\n",
      "Requirement already satisfied: tzdata>=2022.1 in c:\\users\\crrz_\\anaconda3\\envs\\hsplus\\lib\\site-packages (from pandas) (2023.3)\n",
      "Requirement already satisfied: six>=1.5 in c:\\users\\crrz_\\anaconda3\\envs\\hsplus\\lib\\site-packages (from python-dateutil>=2.8.2->pandas) (1.16.0)\n"
     ]
    }
   ],
   "source": [
    "!pip install requests\n",
    "!pip install beautifulsoup4\n",
    "!pip install openai\n",
    "!pip install pandas"
   ]
  },
  {
   "cell_type": "code",
   "execution_count": 2,
   "id": "6b0e9902-a890-425d-9c9c-dc9fc892bab1",
   "metadata": {},
   "outputs": [],
   "source": [
    "import os \n",
    "import requests\n",
    "from bs4 import BeautifulSoup\n",
    "import pandas as pd\n",
    "from openai import OpenAI\n",
    "from timeout_decorator import timeout"
   ]
  },
  {
   "cell_type": "code",
   "execution_count": 3,
   "id": "92477f78-a2cc-45fe-ac32-e72012b8c51d",
   "metadata": {},
   "outputs": [],
   "source": [
    "def get_data_from_url():\n",
    "    \"\"\"\n",
    "    Function that opens Vigoshop.si URL and parses data.\n",
    "    \"\"\"\n",
    "    \n",
    "    url = 'https://vigoshop.si'\n",
    "    response = requests.get(url)\n",
    "    if response.status_code == 200:\n",
    "        soup = BeautifulSoup(response.text, 'html.parser')\n",
    "        ul_element = soup.find('ul', class_='products columns-4')\n",
    "\n",
    "        # Extract information from li elements within the ul\n",
    "        if ul_element:\n",
    "            product_list = ul_element.find_all('li', class_='product')\n",
    "\n",
    "        return product_list\n",
    "    else:\n",
    "        print('Napaka pri pridobivanju spletne strani. Status code:', response.status_code)\n",
    "        return None\n",
    "\n",
    "\n",
    "def generate_response(client, messages):\n",
    "    \"\"\"\n",
    "    Call OpenAI ChatGPT (so far we will use GPT-3.5-turbo).\n",
    "    :param client: OpenAI object\n",
    "    :param messages: array of message rules\n",
    "    :return response \n",
    "    \"\"\"\n",
    "    response = client.chat.completions.create(\n",
    "      model=\"gpt-3.5-turbo\",\n",
    "      messages=messages,\n",
    "      temperature=0,\n",
    "      max_tokens=256\n",
    "    )\n",
    "    return response\n",
    "\n",
    "\n",
    "def get_data(online=True): \n",
    "    \"\"\"\n",
    "    Function that reads data from URL and saves it or reads saved data. \n",
    "    :param online: bool, whether we want to use real data or data from URL. \n",
    "    :return pd.DataFrame\n",
    "    \"\"\"\n",
    "    filename = \"products.csv\"\n",
    "    if online: \n",
    "        df = list()\n",
    "        data = get_data_from_url()\n",
    "\n",
    "        if data != None:\n",
    "            for product in data:\n",
    "                anchor = product.find('a')\n",
    "                href = anchor.get('href')\n",
    "                img = product.find('img')\n",
    "                img_url = img.get('src')\n",
    "                text = product.text.split(\"\\n\")[:3]\n",
    "                price = text[2][:-1].replace(\",\", \".\")\n",
    "                name = text[1]\n",
    "                df.append([name, price, href, img_url])\n",
    "\n",
    "        column_names = [\"name\", \"price\", \"href\", \"img_url\"]\n",
    "        df = pd.DataFrame(df, columns=column_names)\n",
    "        df['img_url'] = df['img_url'].str.replace('_extract', '')\n",
    "        df[\"additional_name\"] = df.name\n",
    "        #df.set_index(\"name\", inplace=True, drop=True)\n",
    "        df.to_csv(filename)\n",
    "    else: \n",
    "        df = pd.read_csv(filename)\n",
    "    return df\n"
   ]
  },
  {
   "cell_type": "code",
   "execution_count": 4,
   "id": "c54ac3e4-2783-4b8a-b7a0-ae87e8c449a6",
   "metadata": {
    "tags": []
   },
   "outputs": [],
   "source": [
    "def prepare_input_messages(item_name, target_group, must_use_words, language=\"slovenian\"):\n",
    "    # Prepare prompt messages to guide your ChatBot\n",
    "    rules_slovenian = \"\"\n",
    "    rules_english = \"You are a helpful assistant for creating marketing ads on Facebook platform. You will use all knowladge to set up the most clickable ad.\" + \\\n",
    "                    \"You know that facebook allows ad headers of length 40 characters and contrent of length 125 characters.\" + \\\n",
    "                    \"Answer should be formed as header in one line and content in second line. So it shoul have only 2 lines! First one with mamimum 40 characters and second with maximum 125 characters. \" + \\\n",
    "                    f\"Prepare response in {language} language\"\n",
    "\n",
    "    messages=[\n",
    "        {\"role\": \"system\", \"content\": rules_english},\n",
    "        ]\n",
    "    if target_group != \"\": \n",
    "        target_group_message = f\" Create an ad to target {target_group}\"\n",
    "    if must_use_words != \"\": \n",
    "        must_use_words_message = f\" You must use the following words in ad text: '{must_use_words}'\"\n",
    "\n",
    "    additional_message = {\"role\": \"assistant\", \"content\": target_group_message + must_use_words_message}\n",
    "    messages.append({\"role\": \"user\", \"content\": f\"Create facebook add for: {item_name} (the name is in slovenian). THe header should not be item name. \"\n",
    "                                                 + target_group_message \n",
    "                                                 + must_use_words_message\n",
    "                                                 +\"You know that facebook allows ad headers of length 40 characters and contrent of length 125 characters.\"\n",
    "                    }\n",
    "                   )\n",
    "\n",
    "    return messages\n",
    "\n",
    "\n",
    "def create_ad(client, name, target_group, must_use_words): \n",
    "    messages = prepare_input_messages(name, target_group, must_use_words)\n",
    "    generated_text = generate_response(client, messages)\n",
    "    text = generated_text.choices[0].message.content\n",
    "    return text\n",
    "    "
   ]
  },
  {
   "cell_type": "code",
   "execution_count": 5,
   "id": "11a35cd7-c09a-47cc-a465-1a0061b8383a",
   "metadata": {
    "collapsed": true,
    "jupyter": {
     "outputs_hidden": true
    },
    "tags": []
   },
   "outputs": [
    {
     "ename": "OpenAIError",
     "evalue": "The api_key client option must be set either by passing api_key to the client or by setting the OPENAI_API_KEY environment variable",
     "output_type": "error",
     "traceback": [
      "\u001b[1;31m---------------------------------------------------------------------------\u001b[0m",
      "\u001b[1;31mOpenAIError\u001b[0m                               Traceback (most recent call last)",
      "Cell \u001b[1;32mIn[5], line 2\u001b[0m\n\u001b[0;32m      1\u001b[0m df \u001b[38;5;241m=\u001b[39m get_data(online\u001b[38;5;241m=\u001b[39m\u001b[38;5;28;01mTrue\u001b[39;00m)\n\u001b[1;32m----> 2\u001b[0m client \u001b[38;5;241m=\u001b[39m \u001b[43mOpenAI\u001b[49m\u001b[43m(\u001b[49m\u001b[43m)\u001b[49m\n\u001b[0;32m      4\u001b[0m target_group \u001b[38;5;241m=\u001b[39m \u001b[38;5;124m\"\u001b[39m\u001b[38;5;124msingle people\u001b[39m\u001b[38;5;124m\"\u001b[39m\n\u001b[0;32m      5\u001b[0m must_use_words \u001b[38;5;241m=\u001b[39m \u001b[38;5;124m\"\u001b[39m\u001b[38;5;124m\"\u001b[39m\n",
      "File \u001b[1;32m~\\anaconda3\\envs\\hsplus\\lib\\site-packages\\openai\\_client.py:93\u001b[0m, in \u001b[0;36mOpenAI.__init__\u001b[1;34m(self, api_key, organization, base_url, timeout, max_retries, default_headers, default_query, http_client, _strict_response_validation)\u001b[0m\n\u001b[0;32m     91\u001b[0m     api_key \u001b[38;5;241m=\u001b[39m os\u001b[38;5;241m.\u001b[39menviron\u001b[38;5;241m.\u001b[39mget(\u001b[38;5;124m\"\u001b[39m\u001b[38;5;124mOPENAI_API_KEY\u001b[39m\u001b[38;5;124m\"\u001b[39m)\n\u001b[0;32m     92\u001b[0m \u001b[38;5;28;01mif\u001b[39;00m api_key \u001b[38;5;129;01mis\u001b[39;00m \u001b[38;5;28;01mNone\u001b[39;00m:\n\u001b[1;32m---> 93\u001b[0m     \u001b[38;5;28;01mraise\u001b[39;00m OpenAIError(\n\u001b[0;32m     94\u001b[0m         \u001b[38;5;124m\"\u001b[39m\u001b[38;5;124mThe api_key client option must be set either by passing api_key to the client or by setting the OPENAI_API_KEY environment variable\u001b[39m\u001b[38;5;124m\"\u001b[39m\n\u001b[0;32m     95\u001b[0m     )\n\u001b[0;32m     96\u001b[0m \u001b[38;5;28mself\u001b[39m\u001b[38;5;241m.\u001b[39mapi_key \u001b[38;5;241m=\u001b[39m api_key\n\u001b[0;32m     98\u001b[0m \u001b[38;5;28;01mif\u001b[39;00m organization \u001b[38;5;129;01mis\u001b[39;00m \u001b[38;5;28;01mNone\u001b[39;00m:\n",
      "\u001b[1;31mOpenAIError\u001b[0m: The api_key client option must be set either by passing api_key to the client or by setting the OPENAI_API_KEY environment variable"
     ]
    }
   ],
   "source": [
    "df = get_data(online=True)\n",
    "client = OpenAI()\n",
    "\n",
    "target_group = \"single people\"\n",
    "must_use_words = \"\"\n",
    "\n",
    "for index, row in df.head(10).iterrows(): \n",
    "    name = row[\"name\"]\n",
    "    try: \n",
    "        ad = create_ad(client, name, target_group, must_use_words)\n",
    "    except TimeoutError:\n",
    "        print(\"ERROR\")\n",
    "    print(ad)\n",
    "    print(\"--------------------\")\n",
    "    break\n",
    "    time.sleep(30)\n",
    "        "
   ]
  },
  {
   "cell_type": "code",
   "execution_count": null,
   "id": "8ad6abe6-d9cf-4893-bcb7-a9256966f951",
   "metadata": {},
   "outputs": [],
   "source": [
    "df.loc[32]"
   ]
  },
  {
   "cell_type": "code",
   "execution_count": null,
   "id": "6291b375-4d04-4a23-ba5f-d0836c6f516d",
   "metadata": {},
   "outputs": [],
   "source": [
    "df.head(1).values"
   ]
  },
  {
   "cell_type": "code",
   "execution_count": null,
   "id": "b4357031-6bca-40c0-85fc-953d8ce6e57d",
   "metadata": {},
   "outputs": [],
   "source": [
    "from timeout_decorator import timeout"
   ]
  },
  {
   "cell_type": "code",
   "execution_count": null,
   "id": "a20e8b0d-c292-4121-8573-4860d956e064",
   "metadata": {
    "tags": []
   },
   "outputs": [],
   "source": [
    "!pip install timeout_decorator"
   ]
  }
 ],
 "metadata": {
  "kernelspec": {
   "display_name": "Python 3 (ipykernel)",
   "language": "python",
   "name": "python3"
  },
  "language_info": {
   "codemirror_mode": {
    "name": "ipython",
    "version": 3
   },
   "file_extension": ".py",
   "mimetype": "text/x-python",
   "name": "python",
   "nbconvert_exporter": "python",
   "pygments_lexer": "ipython3",
   "version": "3.9.18"
  }
 },
 "nbformat": 4,
 "nbformat_minor": 5
}
